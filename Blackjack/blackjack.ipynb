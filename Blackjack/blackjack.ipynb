{
 "cells": [
  {
   "cell_type": "markdown",
   "id": "12321d2d",
   "metadata": {},
   "source": [
    "### Martin O'Connell\n",
    "### ISYE 6644\n",
    "### Summer 2022\n",
    "### Blackjack Simulation Project"
   ]
  },
  {
   "cell_type": "code",
   "execution_count": 27,
   "id": "bdae51f6",
   "metadata": {},
   "outputs": [],
   "source": [
    "import random\n",
    "from statistics import mean\n",
    "from statistics import median \n",
    "from statistics import stdev\n",
    "\n",
    "# Initialize deck\n",
    "def new_deck(num_decks=4):\n",
    "    deck = [# 2, 3, 4, 5, 6, 7, 8, 9, 10,  J, Q,  K,  A\n",
    "              2, 3, 4, 5, 6, 7, 8, 9, 10, 10, 10, 10, 11,\n",
    "              2, 3, 4, 5, 6, 7, 8, 9, 10, 10, 10, 10, 11,\n",
    "              2, 3, 4, 5, 6, 7, 8, 9, 10, 10, 10, 10, 11,\n",
    "              2, 3, 4, 5, 6, 7, 8, 9, 10, 10, 10, 10, 11,\n",
    "            ]\n",
    "    # Add decks\n",
    "    deck = deck * num_decks\n",
    "    # Shuffle deck\n",
    "    random.shuffle(deck)\n",
    "    return list(deck)\n",
    "\n",
    "# Deal Cards\n",
    "def deal_cards(deck):\n",
    "    dealer_cards = []\n",
    "    player_cards = []\n",
    "     \n",
    "    # Deal cards\n",
    "    player_cards.append(deck.pop(0))\n",
    "    dealer_cards.append(deck.pop(0))\n",
    "    player_cards.append(deck.pop(0))\n",
    "    dealer_cards.append(deck.pop(0))\n",
    "     \n",
    "    return player_cards, dealer_cards \n",
    "\n",
    "# Decide if player splits cards\n",
    "def split_cards(player_cards, dealer_card, deck):\n",
    "    # Initializing double decks\n",
    "    player_deck_1 = []\n",
    "    player_deck_2 = []\n",
    "    # If the cards are not the same or equal to 4, 5, or 10 they will not be split\n",
    "    if player_cards[0] != player_cards[1] or player_cards[0] in [4, 5, 10]:\n",
    "        return [player_cards]\n",
    "    elif player_cards[0] in [8,11] or dealer_card < 7:\n",
    "        player_deck_1.append(player_cards[0])\n",
    "        player_deck_2.append(player_cards[1])\n",
    "        player_deck_1.append(deck.pop(0))\n",
    "        player_deck_2.append(deck.pop(0))\n",
    "        return [player_deck_1, player_deck_2]\n",
    "    else:\n",
    "        return [player_cards]\n",
    "        \n",
    "# Used if player hand contains Ace\n",
    "def soft_totals(player_cards, dealer_card, deck):\n",
    "    if sum(player_cards) >= 19: # Stay if total is greater than or equal to 19\n",
    "        return player_cards\n",
    "    elif sum(player_cards) == 18 and dealer_card <= 8: # Stay if total is 18 and dealer card is less than or equal to 8\n",
    "        return player_cards\n",
    "    else: # Keep hitting until previous 2 conditions are met\n",
    "        for i, card in enumerate(player_cards):\n",
    "            if card == 11:\n",
    "                player_cards[i] = 1\n",
    "        player_cards.append(deck.pop(0))\n",
    "        return soft_totals(player_cards, dealer_card, deck)\n",
    "\n",
    "\n",
    "# Decide if dealer plays\n",
    "def dealer_play(dealer_cards, deck):\n",
    "    # Dealer will hit until atleast 17 (Casino Rule) \n",
    "    while sum(dealer_cards) < 18:\n",
    "        exit = False\n",
    "        # Check for soft 17 (Ace can be 11 or 1)\n",
    "        if sum(dealer_cards) == 17: \n",
    "            for i, card in enumerate(dealer_cards):\n",
    "                if card == 11:\n",
    "                    exit = False\n",
    "                    dealer_cards[i] = 1\n",
    "                else:\n",
    "                    exit = True\n",
    "        if exit:\n",
    "            break\n",
    "        # Deal another card to dealer\n",
    "        dealer_cards.append(deck.pop(0))\n",
    "        \n",
    "    return dealer_cards\n",
    " \n",
    "# Decide if player plays hand based off a typical blackjack strategy\n",
    "def typ_player_play(player_cards, dealer_card, deck):\n",
    "    # Looping through player hands, could be multiple if cards were split\n",
    "    if sum(player_cards) >= 21:\n",
    "        return player_cards\n",
    "    # code for checking for soft totals (look at method) \n",
    "    elif 11 in player_cards:\n",
    "        return soft_totals(player_cards, dealer_card, deck)\n",
    "    # hard total strategy implemented    \n",
    "    elif sum(player_cards) >= 17:\n",
    "        return player_cards\n",
    "    elif sum(player_cards) >= 13 and dealer_card <= 6:\n",
    "        return player_cards\n",
    "    elif sum(player_cards) == 12 and dealer_card in [4,5,6]:\n",
    "        return player_cards\n",
    "    else:\n",
    "        player_cards.append(deck.pop(0))\n",
    "        return typ_player_play(player_cards, dealer_card, deck)\n",
    "\n",
    "# Using a no bust strategy where the player always hits with a total 11 or less and never when above 12\n",
    "def no_bust(player_cards, dealer_card, deck):\n",
    "# Looping through player hands, could be multiple if cards were split\n",
    "    if sum(player_cards) >= 12:\n",
    "        return player_cards\n",
    "    else:\n",
    "        player_cards.append(deck.pop(0))\n",
    "        return no_bust(player_cards, dealer_card, deck)\n",
    "    "
   ]
  },
  {
   "cell_type": "code",
   "execution_count": 30,
   "id": "3d2955b1",
   "metadata": {
    "scrolled": true
   },
   "outputs": [
    {
     "name": "stdout",
     "output_type": "stream",
     "text": [
      "Median gain/loss percentage using same bet: -6.785714285714286\n",
      "Median gain/loss percentage using martingale system: 25.69461867541574\n",
      "Median gain/loss percentage using paroli system: -7.011388566266615\n",
      "Median gain/loss percentage using oscar system: -6.4321074964639315\n"
     ]
    }
   ],
   "source": [
    "# Number of days implementing strategy \n",
    "simulations = 5000\n",
    "#Initialize daily win amount list for bet types\n",
    "d_sim_wins = []\n",
    "m_sim_wins = []\n",
    "p_sim_wins = []\n",
    "o_sim_wins = []\n",
    "# Number of games played in 3 hours\n",
    "games = 150\n",
    "# Number of card decks used\n",
    "num_decks = 4\n",
    "# Percentage of cards left in the deck before reshuffling\n",
    "shuffle_perc = 50\n",
    "# Calc total number of cards in combined deck\n",
    "deck_total = num_decks * 52\n",
    "\n",
    "# Testing the most common beginners blackjack strategy with a combo of bankroll\n",
    "for i in range(simulations):\n",
    "\n",
    "    # Initialize first deck\n",
    "    deck = new_deck(num_decks)\n",
    "    # default bet amount\n",
    "    default_bet = 20\n",
    "    # martingale Bet Amount\n",
    "    m_bet_amount = default_bet\n",
    "    # Paroli bet amount \n",
    "    p_bet_amount = default_bet\n",
    "    # Oscar bet amount\n",
    "    o_bet_amount = default_bet\n",
    "    # Initialize bet tracking lists\n",
    "    default_win = []\n",
    "    martingale_win = []\n",
    "    paroli_win = []\n",
    "    oscar_win = []\n",
    "    # default bankroll\n",
    "    d_bankroll = 0\n",
    "    # martingale bankroll\n",
    "    m_bankroll = 0\n",
    "    # paroli bankroll \n",
    "    p_bankroll = 0\n",
    "    # wins for tracking paroli\n",
    "    p_wins = 0\n",
    "    # oscar bankroll \n",
    "    o_bankroll = 0\n",
    "    # wins for tracking oscar\n",
    "    o_wins = 0\n",
    "    # tracking oscar profit\n",
    "    profit = 0\n",
    "    # total dealer hands for troubleshooting\n",
    "    d_total_hands = []\n",
    "    # total player hands for troubleshooting\n",
    "    p_total_hands = []\n",
    "    \n",
    "    for i in range(games):\n",
    "        # Check if remaining deck is greater than reshuffle threshold\n",
    "        if len(deck) / deck_total <= shuffle_perc:\n",
    "            deck = new_deck(num_decks)\n",
    "        # Dealing cards\n",
    "        player_cards, dealer_cards = deal_cards(deck)\n",
    "        # Storing visible dealer card \n",
    "        dealer_card = dealer_cards[0]\n",
    "        # Split cards if deemed possible / advantageous\n",
    "        player_cards = split_cards(player_cards, dealer_card, deck)\n",
    "        # loop through player hands\n",
    "        player_hands = []\n",
    "        for player_hand in player_cards:\n",
    "            if 11 in player_hand:\n",
    "                player_hands.append(soft_totals(player_hand, dealer_card, deck))\n",
    "                p_total_hands.append(soft_totals(player_hand, dealer_card, deck))\n",
    "            else:\n",
    "                player_hands.append(typ_player_play(player_hand, dealer_card, deck))\n",
    "                p_total_hands.append(typ_player_play(player_hand, dealer_card, deck))\n",
    "        # dealer play\n",
    "        dealer_hand = dealer_play(dealer_cards, deck)\n",
    "        d_total_hands.append(dealer_play(dealer_cards, deck))\n",
    "        \n",
    "        # tracking each player hand \n",
    "        for hand in player_hands:\n",
    "            if sum(hand) > 21:\n",
    "                # default tracking\n",
    "                default_win.append(-default_bet)\n",
    "                d_bankroll += default_bet\n",
    "                # martingale tracking\n",
    "                martingale_win.append(-m_bet_amount)\n",
    "                m_bankroll += m_bet_amount\n",
    "                m_bet_amount = m_bet_amount * 2\n",
    "                # paroli tracking\n",
    "                paroli_win.append(-p_bet_amount)\n",
    "                p_bankroll += p_bet_amount\n",
    "                # oscar tracking\n",
    "                oscar_win.append(-o_bet_amount)\n",
    "                o_bankroll += o_bet_amount\n",
    "                if o_wins >= 1 and profit < default_bet:\n",
    "                    o_bet_amount = o_bet_amount * 2\n",
    "                    profit += -o_bet_amount \n",
    "                if o_wins == 0:\n",
    "                    o_bet_amount = default_bet\n",
    "                    profit += -o_bet_amount\n",
    "            elif sum(hand) == sum(dealer_hand):\n",
    "                # default tracking \n",
    "                default_win.append(0)\n",
    "                # martingale tracking\n",
    "                martingale_win.append(0)\n",
    "                # paroli tracking\n",
    "                paroli_win.append(0)\n",
    "                # oscar tracking\n",
    "                oscar_win.append(0)\n",
    "            elif sum(hand) == 21 and len(hand) == 2:\n",
    "                # default tracking\n",
    "                default_win.append(default_bet * .5)\n",
    "                d_bankroll += default_bet\n",
    "                # martingale tracking\n",
    "                martingale_win.append(m_bet_amount * .5)\n",
    "                m_bankroll += m_bet_amount\n",
    "                m_bet_amount = default_bet \n",
    "                # paroli tracking\n",
    "                paroli_win.append(p_bet_amount * .5)\n",
    "                p_bankroll += p_bet_amount\n",
    "                if p_wins > 3:\n",
    "                    p_bet_amount = default_bet\n",
    "                    p_wins = 0\n",
    "                else:\n",
    "                    p_bet_amount = p_bet_amount * 2\n",
    "                    p_wins += 1\n",
    "                # oscar tracking\n",
    "                oscar_win.append(o_bet_amount * .5)\n",
    "                o_bankroll += o_bet_amount\n",
    "                if profit < default_bet:\n",
    "                    o_bet_amount = o_bet_amount * 2\n",
    "                    profit += o_bet_amount / 2\n",
    "                else:\n",
    "                    oscar_bet = default_bet\n",
    "                    o_wins = 0\n",
    "                    profit = 0\n",
    "            elif sum(dealer_hand) > 21:\n",
    "                # default tracking\n",
    "                default_win.append(default_bet)\n",
    "                d_bankroll += default_bet\n",
    "                # martingale tracking\n",
    "                martingale_win.append(m_bet_amount)\n",
    "                m_bankroll += m_bet_amount\n",
    "                m_bet_amount = default_bet\n",
    "                # paroli tracking\n",
    "                paroli_win.append(p_bet_amount)\n",
    "                p_bankroll += p_bet_amount\n",
    "                if p_wins > 3:\n",
    "                    p_bet_amount = default_bet\n",
    "                    p_wins = 0 \n",
    "                else:\n",
    "                    p_bet_amount = p_bet_amount * 2\n",
    "                    p_wins += 1\n",
    "                # oscar tracking\n",
    "                oscar_win.append(o_bet_amount)\n",
    "                o_bankroll += o_bet_amount\n",
    "                if profit < default_bet:\n",
    "                    o_bet_amount = o_bet_amount * 2\n",
    "                    profit += o_bet_amount\n",
    "                else:\n",
    "                    o_bet_amount = default_bet\n",
    "                    o_wins = 0\n",
    "                    profit = 0\n",
    "            elif sum(hand) < sum(dealer_hand):\n",
    "                # default tracking \n",
    "                default_win.append(-default_bet)\n",
    "                d_bankroll += default_bet\n",
    "                # martingale tracking\n",
    "                martingale_win.append(-m_bet_amount)\n",
    "                m_bankroll += m_bet_amount\n",
    "                m_bet_amount = m_bet_amount * 2\n",
    "                # paroli tracking\n",
    "                paroli_win.append(-p_bet_amount)\n",
    "                p_bankroll += p_bet_amount\n",
    "                p_bet_amount = default_bet\n",
    "                # oscar tracking\n",
    "                oscar_win.append(-o_bet_amount)\n",
    "                o_bankroll += o_bet_amount\n",
    "                if o_wins >= 1 and profit < default_bet:\n",
    "                    o_bet_amount = o_bet_amount * 2\n",
    "                    profit += -o_bet_amount\n",
    "                if o_wins == 0:\n",
    "                    o_bet_amount = default_bet\n",
    "                    profit += -o_bet_amount\n",
    "            elif sum(hand) > sum(dealer_hand):\n",
    "                # default tracking\n",
    "                default_win.append(default_bet)\n",
    "                d_bankroll += default_bet\n",
    "                # martingale tracking\n",
    "                martingale_win.append(m_bet_amount * 2)\n",
    "                m_bankroll += m_bet_amount\n",
    "                m_bet_amount = default_bet\n",
    "                # paroli tracking\n",
    "                paroli_win.append(p_bet_amount)\n",
    "                p_bankroll += p_bet_amount\n",
    "                if p_wins > 3:\n",
    "                    p_bet_amount = default_bet\n",
    "                    p_wins = 0 \n",
    "                else:\n",
    "                    p_bet_amount = p_bet_amount * 2\n",
    "                    p_wins += 1\n",
    "                # oscar tracking\n",
    "                oscar_win.append(o_bet_amount)\n",
    "                o_bankroll += o_bet_amount\n",
    "                if profit < default_bet:\n",
    "                    o_bet_amount = o_bet_amount * 2\n",
    "                    profit += o_bet_amount\n",
    "                else:\n",
    "                    o_bet_amount = default_bet\n",
    "                    o_wins = 0\n",
    "                    profit = 0\n",
    "\n",
    "    # Calculating percent loss/gain for each bet method\n",
    "    default_total = sum(default_win)\n",
    "    martingale_total = sum(martingale_win)\n",
    "    paroli_total = sum(paroli_win)\n",
    "    oscar_total = sum(oscar_win)\n",
    "\n",
    "    d_percent_return = (default_total / d_bankroll) * 100\n",
    "    m_percent_return = (martingale_total / m_bankroll) * 100\n",
    "    p_percent_return = (paroli_total / p_bankroll) * 100\n",
    "    o_percent_return = (oscar_total / o_bankroll) * 100\n",
    "\n",
    "    d_sim_wins.append(d_percent_return)\n",
    "    m_sim_wins.append(m_percent_return)\n",
    "    p_sim_wins.append(p_percent_return)\n",
    "    o_sim_wins.append(o_percent_return)\n",
    "print(\"Median gain/loss percentage using same bet: \" + str(median(d_sim_wins)))\n",
    "print(\"Median gain/loss percentage using martingale system: \" + str(median(m_sim_wins)))\n",
    "print(\"Median gain/loss percentage using paroli system: \" + str(median(p_sim_wins)))\n",
    "print(\"Median gain/loss percentage using oscar system: \" + str(median(o_sim_wins)))"
   ]
  },
  {
   "cell_type": "code",
   "execution_count": 31,
   "id": "b85dc258",
   "metadata": {},
   "outputs": [
    {
     "name": "stdout",
     "output_type": "stream",
     "text": [
      "Gain/loss percentage standard deviation using same bet: 8.473850887264186\n",
      "Gain/loss percentage standard deviation using martingale system: 14.815724180529244\n",
      "Gain/loss percentage standard deviation using paroli system: 12.613432870010774\n",
      "Gain/loss percentage standard deviation using oscar system: 9.915070541074385\n"
     ]
    }
   ],
   "source": [
    "print(\"Gain/loss percentage standard deviation using same bet: \" + str(stdev(d_sim_wins)))\n",
    "print(\"Gain/loss percentage standard deviation using martingale system: \" + str(stdev(m_sim_wins)))\n",
    "print(\"Gain/loss percentage standard deviation using paroli system: \" + str(stdev(p_sim_wins)))\n",
    "print(\"Gain/loss percentage standard deviation using oscar system: \" + str(stdev(o_sim_wins)))"
   ]
  },
  {
   "cell_type": "code",
   "execution_count": 17,
   "id": "e3631343",
   "metadata": {},
   "outputs": [
    {
     "data": {
      "text/plain": [
       "Text(0.5, 0, 'Data')"
      ]
     },
     "execution_count": 17,
     "metadata": {},
     "output_type": "execute_result"
    },
    {
     "data": {
      "image/png": "[encoded data removed]",
      "text/plain": [
       "<Figure size 432x288 with 1 Axes>"
      ]
     },
     "metadata": {
      "needs_background": "light"
     },
     "output_type": "display_data"
    }
   ],
   "source": [
    "# Plotting default distribution\n",
    "import matplotlib.pyplot as plt\n",
    "import numpy as np\n",
    "%matplotlib inline\n",
    "\n",
    "# Plotting same bet strategy distribution for typical strategy\n",
    "plt.hist(d_sim_wins, density=True, bins=10) \n",
    "plt.title('Same Bet Strategy')\n",
    "plt.ylabel('Probability')\n",
    "plt.xlabel('Win %')"
   ]
  },
  {
   "cell_type": "code",
   "execution_count": 18,
   "id": "41edc19f",
   "metadata": {},
   "outputs": [
    {
     "data": {
      "text/plain": [
       "Text(0.5, 0, 'Data')"
      ]
     },
     "execution_count": 18,
     "metadata": {},
     "output_type": "execute_result"
    },
    {
     "data": {
      "image/png": "[encoded data removed]",
      "text/plain": [
       "<Figure size 432x288 with 1 Axes>"
      ]
     },
     "metadata": {
      "needs_background": "light"
     },
     "output_type": "display_data"
    }
   ],
   "source": [
    "# Plotting martingale strategy distribution for typical strategy\n",
    "plt.hist(m_sim_wins, density=True, bins=10) \n",
    "plt.title('Martingale Strategy')\n",
    "plt.ylabel('Probability')\n",
    "plt.xlabel('Win %')"
   ]
  },
  {
   "cell_type": "code",
   "execution_count": 19,
   "id": "c87d5945",
   "metadata": {},
   "outputs": [
    {
     "data": {
      "text/plain": [
       "Text(0.5, 0, 'Data')"
      ]
     },
     "execution_count": 19,
     "metadata": {},
     "output_type": "execute_result"
    },
    {
     "data": {
      "image/png": "[encoded data removed]",
      "text/plain": [
       "<Figure size 432x288 with 1 Axes>"
      ]
     },
     "metadata": {
      "needs_background": "light"
     },
     "output_type": "display_data"
    }
   ],
   "source": [
    "# Plotting paroli strategy distribution for typical strategy\n",
    "plt.hist(p_sim_wins, density=True, bins=10) \n",
    "plt.title('Paroli Strategy')\n",
    "plt.ylabel('Probability')\n",
    "plt.xlabel('Win %')"
   ]
  },
  {
   "cell_type": "code",
   "execution_count": 20,
   "id": "7842248d",
   "metadata": {},
   "outputs": [
    {
     "data": {
      "text/plain": [
       "Text(0.5, 0, 'Data')"
      ]
     },
     "execution_count": 20,
     "metadata": {},
     "output_type": "execute_result"
    },
    {
     "data": {
      "image/png": "[encoded data removed]",
      "text/plain": [
       "<Figure size 432x288 with 1 Axes>"
      ]
     },
     "metadata": {
      "needs_background": "light"
     },
     "output_type": "display_data"
    }
   ],
   "source": [
    "# Plotting oscar strategy for never bust strategy\n",
    "plt.hist(o_sim_wins, density=True, bins=10) \n",
    "plt.title('Oscar Strategy')\n",
    "plt.ylabel('Probability')\n",
    "plt.xlabel('Win %')"
   ]
  },
  {
   "cell_type": "code",
   "execution_count": 21,
   "id": "07853df0",
   "metadata": {},
   "outputs": [
    {
     "name": "stdout",
     "output_type": "stream",
     "text": [
      "Median gain/loss percentage using same bet: -6.474820143884892\n",
      "Median gain/loss percentage using martingale system: 20.067405654690138\n",
      "Median gain/loss percentage using paroli system: -7.259395294368147\n",
      "Median gain/loss percentage using oscar system: 5.681818181818182\n"
     ]
    }
   ],
   "source": [
    "# Number of days implementing strategy \n",
    "simulations = 5000\n",
    "#Initialize daily win amount list for bet types\n",
    "d_sim_wins = []\n",
    "m_sim_wins = []\n",
    "p_sim_wins = []\n",
    "o_sim_wins = []\n",
    "# Number of games played in 3 hours\n",
    "games = 150\n",
    "# Number of card decks used\n",
    "num_decks = 4\n",
    "# Percentage of cards left in the deck before reshuffling\n",
    "shuffle_perc = 50\n",
    "# Calc total number of cards in combined deck\n",
    "deck_total = num_decks * 52\n",
    "\n",
    "# Testing the no bust strategy with a combo of bankroll strategies\n",
    "for i in range(simulations):\n",
    "\n",
    "    # Initialize first deck\n",
    "    deck = new_deck(num_decks)\n",
    "    # default bet amount\n",
    "    default_bet = 20\n",
    "    # martingale Bet Amount\n",
    "    m_bet_amount = 20\n",
    "    # Paroli bet amount \n",
    "    p_bet_amount = 20\n",
    "    # Oscar bet amount\n",
    "    o_bet_amount = 20\n",
    "    # Initialize bet tracking lists\n",
    "    default_win = []\n",
    "    martingale_win = []\n",
    "    paroli_win = []\n",
    "    oscar_win = []\n",
    "    # default bankroll\n",
    "    d_bankroll = 0\n",
    "    # martingale bankroll\n",
    "    m_bankroll = 0\n",
    "    # paroli bankroll \n",
    "    p_bankroll = 0\n",
    "    # wins for tracking paroli\n",
    "    p_wins = 0\n",
    "    # oscar bankroll \n",
    "    o_bankroll = 0\n",
    "    # wins for tracking oscar\n",
    "    o_wins = 0\n",
    "    # tracking oscar profit\n",
    "    profit = 0\n",
    "    \n",
    "    for i in range(games):\n",
    "        # Check if remaining deck is greater than reshuffle threshold\n",
    "        if len(deck) / deck_total <= shuffle_perc:\n",
    "            deck = new_deck(num_decks)\n",
    "        # Dealing cards\n",
    "        player_cards, dealer_cards = deal_cards(deck)\n",
    "        # Storing visible dealer card \n",
    "        dealer_card = dealer_cards[0]\n",
    "        # Split cards if deemed possible / advantageous\n",
    "        player_cards = split_cards(player_cards, dealer_card, deck)\n",
    "        # loop through player hands\n",
    "        player_hands = []\n",
    "        for player_hand in player_cards:\n",
    "            if 11 in player_hand:\n",
    "                player_hands.append(soft_totals(player_hand, dealer_card, deck))\n",
    "            else:\n",
    "                player_hands.append(no_bust(player_hand, dealer_card, deck))\n",
    "        # dealer play\n",
    "        dealer_hand = dealer_play(dealer_cards, deck)\n",
    "        d_total_hands.append(dealer_play(dealer_cards, deck))\n",
    "        \n",
    "        # tracking each player hand \n",
    "        for hand in player_hands:\n",
    "            if sum(hand) > 21:\n",
    "                # default tracking\n",
    "                default_win.append(-default_bet)\n",
    "                d_bankroll += default_bet\n",
    "                # martingale tracking\n",
    "                martingale_win.append(-m_bet_amount)\n",
    "                m_bankroll += m_bet_amount\n",
    "                m_bet_amount = m_bet_amount * 2\n",
    "                # paroli tracking\n",
    "                paroli_win.append(-p_bet_amount)\n",
    "                p_bankroll += p_bet_amount\n",
    "                # oscar tracking\n",
    "                oscar_win.append(-o_bet_amount)\n",
    "                o_bankroll += o_bet_amount\n",
    "                if o_wins >= 1 and profit < default_bet:\n",
    "                    o_bet_amount = o_bet_amount * 2\n",
    "                    profit += -o_bet_amount \n",
    "                if o_wins == 0:\n",
    "                    o_bet_amount = default_bet\n",
    "                    profit += -o_bet_amount\n",
    "            elif sum(hand) == sum(dealer_hand):\n",
    "                # default tracking \n",
    "                default_win.append(0)\n",
    "                # martingale tracking\n",
    "                martingale_win.append(0)\n",
    "                # paroli tracking\n",
    "                paroli_win.append(0)\n",
    "                # oscar tracking\n",
    "                oscar_win.append(0)\n",
    "            elif sum(hand) == 21 and len(hand) == 2:\n",
    "                # default tracking\n",
    "                default_win.append(default_bet * .5)\n",
    "                d_bankroll += default_bet\n",
    "                # martingale tracking\n",
    "                martingale_win.append(m_bet_amount * .5)\n",
    "                m_bankroll += m_bet_amount\n",
    "                m_bet_amount = default_bet \n",
    "                # paroli tracking\n",
    "                paroli_win.append(p_bet_amount * .5)\n",
    "                p_bankroll += p_bet_amount\n",
    "                if p_wins > 3:\n",
    "                    p_bet_amount = default_bet\n",
    "                    p_wins = 0\n",
    "                else:\n",
    "                    p_bet_amount = p_bet_amount * 2\n",
    "                    p_wins += 1\n",
    "                # oscar tracking\n",
    "                oscar_win.append(o_bet_amount * .5)\n",
    "                o_bankroll += o_bet_amount\n",
    "                if profit < default_bet:\n",
    "                    o_bet_amount = o_bet_amount * 2\n",
    "                    profit += o_bet_amount / 2\n",
    "                else:\n",
    "                    oscar_bet = default_bet\n",
    "                    o_wins = 0\n",
    "                    profit = 0\n",
    "            elif sum(dealer_hand) > 21:\n",
    "                # default tracking\n",
    "                default_win.append(default_bet)\n",
    "                d_bankroll += default_bet\n",
    "                # martingale tracking\n",
    "                martingale_win.append(m_bet_amount)\n",
    "                m_bankroll += m_bet_amount\n",
    "                m_bet_amount = default_bet\n",
    "                # paroli tracking\n",
    "                paroli_win.append(p_bet_amount)\n",
    "                p_bankroll += p_bet_amount\n",
    "                if p_wins > 3:\n",
    "                    p_bet_amount = default_bet\n",
    "                    p_wins = 0 \n",
    "                else:\n",
    "                    p_bet_amount = p_bet_amount * 2\n",
    "                    p_wins += 1\n",
    "                # oscar tracking\n",
    "                oscar_win.append(o_bet_amount)\n",
    "                o_bankroll += o_bet_amount\n",
    "                if profit < default_bet:\n",
    "                    o_bet_amount = o_bet_amount * 2\n",
    "                    profit += o_bet_amount\n",
    "                else:\n",
    "                    o_bet_amount = default_bet\n",
    "                    o_wins = 0\n",
    "                    profit = 0\n",
    "            elif sum(hand) < sum(dealer_hand):\n",
    "                # default tracking \n",
    "                default_win.append(-default_bet)\n",
    "                d_bankroll += default_bet\n",
    "                # martingale tracking\n",
    "                martingale_win.append(-m_bet_amount)\n",
    "                m_bankroll += m_bet_amount\n",
    "                m_bet_amount = m_bet_amount * 2\n",
    "                # paroli tracking\n",
    "                paroli_win.append(-p_bet_amount)\n",
    "                p_bankroll += p_bet_amount\n",
    "                p_bet_amount = default_bet\n",
    "                # oscar tracking\n",
    "                oscar_win.append(-oscar_bet)\n",
    "                o_bankroll += o_bet_amount\n",
    "                if o_wins >= 1 and profit < default_bet:\n",
    "                    o_bet_amount = o_bet_amount * 2\n",
    "                    profit += -o_bet_amount\n",
    "                if o_wins == 0:\n",
    "                    o_bet_amount = default_bet\n",
    "                    profit += -o_bet_amount\n",
    "            elif sum(hand) > sum(dealer_hand):\n",
    "                # default tracking\n",
    "                default_win.append(default_bet)\n",
    "                d_bankroll += default_bet\n",
    "                # martingale tracking\n",
    "                martingale_win.append(m_bet_amount * 2)\n",
    "                m_bankroll += m_bet_amount\n",
    "                m_bet_amount = default_bet\n",
    "                # paroli tracking\n",
    "                paroli_win.append(p_bet_amount)\n",
    "                p_bankroll += p_bet_amount\n",
    "                if p_wins > 3:\n",
    "                    p_bet_amount = default_bet\n",
    "                    p_wins = 0 \n",
    "                else:\n",
    "                    p_bet_amount = p_bet_amount * 2\n",
    "                    p_wins += 1\n",
    "                # oscar tracking\n",
    "                oscar_win.append(oscar_bet)\n",
    "                o_bankroll += o_bet_amount\n",
    "                if profit < default_bet:\n",
    "                    o_bet_amount = o_bet_amount * 2\n",
    "                    profit += o_bet_amount\n",
    "                else:\n",
    "                    o_bet_amount = default_bet\n",
    "                    o_wins = 0\n",
    "                    profit = 0\n",
    "\n",
    "    # Calculating percent loss/gain for each bet method\n",
    "    default_total = sum(default_win)\n",
    "    martingale_total = sum(martingale_win)\n",
    "    paroli_total = sum(paroli_win)\n",
    "    oscar_total = sum(oscar_win)\n",
    "\n",
    "    d_percent_return = (default_total / d_bankroll) * 100\n",
    "    m_percent_return = (martingale_total / m_bankroll) * 100\n",
    "    p_percent_return = (paroli_total / p_bankroll) * 100\n",
    "    o_percent_return = (oscar_total / o_bankroll) * 100\n",
    "\n",
    "    d_sim_wins.append(d_percent_return)\n",
    "    m_sim_wins.append(m_percent_return)\n",
    "    p_sim_wins.append(p_percent_return)\n",
    "    o_sim_wins.append(o_percent_return)\n",
    "print(\"Median gain/loss percentage using same bet: \" + str(median(d_sim_wins)))\n",
    "print(\"Median gain/loss percentage using martingale system: \" + str(median(m_sim_wins)))\n",
    "print(\"Median gain/loss percentage using paroli system: \" + str(median(p_sim_wins)))\n",
    "print(\"Median gain/loss percentage using oscar system: \" + str(median(o_sim_wins)))"
   ]
  },
  {
   "cell_type": "code",
   "execution_count": 29,
   "id": "57ba3aab",
   "metadata": {},
   "outputs": [
    {
     "name": "stdout",
     "output_type": "stream",
     "text": [
      "Gain/loss percentage standard deviation using same bet: 8.145754292692772\n",
      "Gain/loss percentage standard deviation using martingale system: 13.593027082781422\n",
      "Gain/loss percentage standard deviation using paroli system: 11.94581295560014\n",
      "Gain/loss percentage standard deviation using oscar system: 7.378341641490387\n"
     ]
    }
   ],
   "source": [
    "print(\"Gain/loss percentage standard deviation using same bet: \" + str(stdev(d_sim_wins)))\n",
    "print(\"Gain/loss percentage standard deviation using martingale system: \" + str(stdev(m_sim_wins)))\n",
    "print(\"Gain/loss percentage standard deviation using paroli system: \" + str(stdev(p_sim_wins)))\n",
    "print(\"Gain/loss percentage standard deviation using oscar system: \" + str(stdev(o_sim_wins)))"
   ]
  },
  {
   "cell_type": "code",
   "execution_count": 22,
   "id": "037630d6",
   "metadata": {},
   "outputs": [
    {
     "data": {
      "text/plain": [
       "Text(0.5, 0, 'Data')"
      ]
     },
     "execution_count": 22,
     "metadata": {},
     "output_type": "execute_result"
    },
    {
     "data": {
      "image/png": "[encoded data removed]",
      "text/plain": [
       "<Figure size 432x288 with 1 Axes>"
      ]
     },
     "metadata": {
      "needs_background": "light"
     },
     "output_type": "display_data"
    }
   ],
   "source": [
    "# Plotting same bet strategy distribution for never bust strategy\n",
    "plt.hist(d_sim_wins, density=True, bins=10) \n",
    "plt.title('Same Bet Strategy')\n",
    "plt.ylabel('Probability')\n",
    "plt.xlabel('Win %')"
   ]
  },
  {
   "cell_type": "code",
   "execution_count": 23,
   "id": "67572dc8",
   "metadata": {},
   "outputs": [
    {
     "data": {
      "text/plain": [
       "Text(0.5, 0, 'Data')"
      ]
     },
     "execution_count": 23,
     "metadata": {},
     "output_type": "execute_result"
    },
    {
     "data": {
      "image/png": "[encoded data removed]",
      "text/plain": [
       "<Figure size 432x288 with 1 Axes>"
      ]
     },
     "metadata": {
      "needs_background": "light"
     },
     "output_type": "display_data"
    }
   ],
   "source": [
    "# Plotting martingale strategy distribution for never bust\n",
    "plt.hist(m_sim_wins, density=True, bins=10) \n",
    "plt.title('Martingale Strategy')\n",
    "plt.ylabel('Probability')\n",
    "plt.xlabel('Win %')"
   ]
  },
  {
   "cell_type": "code",
   "execution_count": 24,
   "id": "cf9508e7",
   "metadata": {},
   "outputs": [
    {
     "data": {
      "text/plain": [
       "Text(0.5, 0, 'Data')"
      ]
     },
     "execution_count": 24,
     "metadata": {},
     "output_type": "execute_result"
    },
    {
     "data": {
      "image/png": "[encoded data removed]",
      "text/plain": [
       "<Figure size 432x288 with 1 Axes>"
      ]
     },
     "metadata": {
      "needs_background": "light"
     },
     "output_type": "display_data"
    }
   ],
   "source": [
    "# Plotting paroli strategy distribution for never bust strategy\n",
    "plt.hist(p_sim_wins, density=True, bins=10) \n",
    "plt.title('Paroli Strategy')\n",
    "plt.ylabel('Probability')\n",
    "plt.xlabel('Win %')"
   ]
  },
  {
   "cell_type": "code",
   "execution_count": 25,
   "id": "f3ce8378",
   "metadata": {},
   "outputs": [
    {
     "data": {
      "text/plain": [
       "Text(0.5, 0, 'Data')"
      ]
     },
     "execution_count": 25,
     "metadata": {},
     "output_type": "execute_result"
    },
    {
     "data": {
      "image/png": "[encoded data removed]",
      "text/plain": [
       "<Figure size 432x288 with 1 Axes>"
      ]
     },
     "metadata": {
      "needs_background": "light"
     },
     "output_type": "display_data"
    }
   ],
   "source": [
    "# Plotting oscar strategy for never bust strategy\n",
    "plt.hist(o_sim_wins, density=True, bins=10) \n",
    "plt.title('Oscar Strategy')\n",
    "plt.ylabel('Probability')\n",
    "plt.xlabel('Win %')"
   ]
  }
 ],
 "metadata": {
  "kernelspec": {
   "display_name": "Python 3",
   "language": "python",
   "name": "python3"
  },
  "language_info": {
   "codemirror_mode": {
    "name": "ipython",
    "version": 3
   },
   "file_extension": ".py",
   "mimetype": "text/x-python",
   "name": "python",
   "nbconvert_exporter": "python",
   "pygments_lexer": "ipython3",
   "version": "3.7.10"
  }
 },
 "nbformat": 4,
 "nbformat_minor": 5
}
